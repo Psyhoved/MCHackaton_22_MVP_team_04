{
 "cells": [
  {
   "cell_type": "code",
   "execution_count": 39,
   "id": "c40438f1",
   "metadata": {},
   "outputs": [],
   "source": [
    "import pandas as pd"
   ]
  },
  {
   "cell_type": "code",
   "execution_count": 40,
   "id": "cb0ff1bc",
   "metadata": {},
   "outputs": [],
   "source": [
    "data = pd.read_csv('data.csv')"
   ]
  },
  {
   "cell_type": "code",
   "execution_count": 41,
   "id": "22d2e479",
   "metadata": {},
   "outputs": [
    {
     "data": {
      "text/plain": [
       "Index(['client_id', 'gender', 'birth_date', 'create_date', 'nonresident_flag',\n",
       "       'businessman_flag', 'city', 'term', 'contract_sum',\n",
       "       'product_category_name', 'card_id', 'card_type_name', 'start_date',\n",
       "       'fact_close_date', 'purchase_sum', 'purchase_count',\n",
       "       'current_balance_avg_sum', 'current_balance_sum',\n",
       "       'current_debit_turn_sum', 'current_credit_turn_sum', 'card_type'],\n",
       "      dtype='object')"
      ]
     },
     "execution_count": 41,
     "metadata": {},
     "output_type": "execute_result"
    }
   ],
   "source": [
    "data.columns"
   ]
  },
  {
   "cell_type": "code",
   "execution_count": 42,
   "id": "b78bbb3e",
   "metadata": {},
   "outputs": [],
   "source": [
    "data = data.drop(['client_id', 'businessman_flag', 'term', 'card_id'], axis=1)"
   ]
  },
  {
   "cell_type": "code",
   "execution_count": 43,
   "id": "be25d7ed",
   "metadata": {},
   "outputs": [
    {
     "data": {
      "text/plain": [
       "Index(['gender', 'birth_date', 'create_date', 'nonresident_flag', 'city',\n",
       "       'contract_sum', 'product_category_name', 'card_type_name', 'start_date',\n",
       "       'fact_close_date', 'purchase_sum', 'purchase_count',\n",
       "       'current_balance_avg_sum', 'current_balance_sum',\n",
       "       'current_debit_turn_sum', 'current_credit_turn_sum', 'card_type'],\n",
       "      dtype='object')"
      ]
     },
     "execution_count": 43,
     "metadata": {},
     "output_type": "execute_result"
    }
   ],
   "source": [
    "data.columns"
   ]
  },
  {
   "cell_type": "code",
   "execution_count": 44,
   "id": "4b76f441",
   "metadata": {},
   "outputs": [
    {
     "name": "stdout",
     "output_type": "stream",
     "text": [
      "<class 'pandas.core.frame.DataFrame'>\n",
      "RangeIndex: 371583 entries, 0 to 371582\n",
      "Data columns (total 17 columns):\n",
      "gender                     371583 non-null object\n",
      "birth_date                 371583 non-null int64\n",
      "create_date                371583 non-null object\n",
      "nonresident_flag           371583 non-null object\n",
      "city                       370415 non-null object\n",
      "contract_sum               371583 non-null float64\n",
      "product_category_name      371583 non-null object\n",
      "card_type_name             318638 non-null object\n",
      "start_date                 318638 non-null float64\n",
      "fact_close_date            132176 non-null float64\n",
      "purchase_sum               371583 non-null float64\n",
      "purchase_count             371583 non-null int64\n",
      "current_balance_avg_sum    371583 non-null float64\n",
      "current_balance_sum        371583 non-null float64\n",
      "current_debit_turn_sum     371583 non-null float64\n",
      "current_credit_turn_sum    371583 non-null float64\n",
      "card_type                  371583 non-null object\n",
      "dtypes: float64(8), int64(2), object(7)\n",
      "memory usage: 48.2+ MB\n"
     ]
    }
   ],
   "source": [
    "data.info()"
   ]
  },
  {
   "cell_type": "code",
   "execution_count": 45,
   "id": "08a4a5a7",
   "metadata": {},
   "outputs": [
    {
     "data": {
      "text/plain": [
       "R    361915\n",
       "N      9668\n",
       "Name: nonresident_flag, dtype: int64"
      ]
     },
     "execution_count": 45,
     "metadata": {},
     "output_type": "execute_result"
    }
   ],
   "source": [
    "data['nonresident_flag'].value_counts()"
   ]
  },
  {
   "cell_type": "code",
   "execution_count": 46,
   "id": "f8329950",
   "metadata": {},
   "outputs": [],
   "source": [
    "data = data[data['city'].notna()]"
   ]
  },
  {
   "cell_type": "code",
   "execution_count": 47,
   "id": "bafaa206",
   "metadata": {},
   "outputs": [
    {
     "data": {
      "text/plain": [
       "Договор на текущий счет для дебетовой карты    351401\n",
       "Кредитная карта                                 19014\n",
       "Name: product_category_name, dtype: int64"
      ]
     },
     "execution_count": 47,
     "metadata": {},
     "output_type": "execute_result"
    }
   ],
   "source": [
    "data['product_category_name'].value_counts()"
   ]
  },
  {
   "cell_type": "code",
   "execution_count": 48,
   "id": "c90dd643",
   "metadata": {},
   "outputs": [
    {
     "data": {
      "text/plain": [
       "dc    352394\n",
       "cc     18021\n",
       "Name: card_type, dtype: int64"
      ]
     },
     "execution_count": 48,
     "metadata": {},
     "output_type": "execute_result"
    }
   ],
   "source": [
    "data['card_type'].value_counts()"
   ]
  },
  {
   "cell_type": "code",
   "execution_count": 49,
   "id": "fb7ee73a",
   "metadata": {},
   "outputs": [],
   "source": [
    "data = data.drop(['card_type', 'create_date'], axis=1)"
   ]
  },
  {
   "cell_type": "code",
   "execution_count": 50,
   "id": "6164f4b9",
   "metadata": {},
   "outputs": [],
   "source": [
    "data = data[data['start_date'].notna()]"
   ]
  },
  {
   "cell_type": "code",
   "execution_count": 51,
   "id": "23cc8b32",
   "metadata": {},
   "outputs": [
    {
     "data": {
      "text/plain": [
       "gender                          0\n",
       "birth_date                      0\n",
       "nonresident_flag                0\n",
       "city                            0\n",
       "contract_sum                    0\n",
       "product_category_name           0\n",
       "card_type_name                  0\n",
       "start_date                      0\n",
       "fact_close_date            185858\n",
       "purchase_sum                    0\n",
       "purchase_count                  0\n",
       "current_balance_avg_sum         0\n",
       "current_balance_sum             0\n",
       "current_debit_turn_sum          0\n",
       "current_credit_turn_sum         0\n",
       "dtype: int64"
      ]
     },
     "execution_count": 51,
     "metadata": {},
     "output_type": "execute_result"
    }
   ],
   "source": [
    "data.isna().sum()"
   ]
  },
  {
   "cell_type": "code",
   "execution_count": 52,
   "id": "a7010a05",
   "metadata": {},
   "outputs": [],
   "source": [
    "data['is_open'] = data['fact_close_date'].isna()"
   ]
  },
  {
   "cell_type": "code",
   "execution_count": 53,
   "id": "5c366fcb",
   "metadata": {},
   "outputs": [
    {
     "data": {
      "text/plain": [
       "True     185858\n",
       "False    131690\n",
       "Name: is_open, dtype: int64"
      ]
     },
     "execution_count": 53,
     "metadata": {},
     "output_type": "execute_result"
    }
   ],
   "source": [
    "data['is_open'].value_counts()"
   ]
  },
  {
   "cell_type": "code",
   "execution_count": 54,
   "id": "38723bb0",
   "metadata": {},
   "outputs": [],
   "source": [
    "data['fact_close_date'] = data['fact_close_date'].fillna(2022)"
   ]
  },
  {
   "cell_type": "code",
   "execution_count": 55,
   "id": "8e63c8d1",
   "metadata": {},
   "outputs": [
    {
     "data": {
      "text/plain": [
       "gender                     0\n",
       "birth_date                 0\n",
       "nonresident_flag           0\n",
       "city                       0\n",
       "contract_sum               0\n",
       "product_category_name      0\n",
       "card_type_name             0\n",
       "start_date                 0\n",
       "fact_close_date            0\n",
       "purchase_sum               0\n",
       "purchase_count             0\n",
       "current_balance_avg_sum    0\n",
       "current_balance_sum        0\n",
       "current_debit_turn_sum     0\n",
       "current_credit_turn_sum    0\n",
       "is_open                    0\n",
       "dtype: int64"
      ]
     },
     "execution_count": 55,
     "metadata": {},
     "output_type": "execute_result"
    }
   ],
   "source": [
    "data.isna().sum()"
   ]
  },
  {
   "cell_type": "code",
   "execution_count": 56,
   "id": "f506e185",
   "metadata": {},
   "outputs": [],
   "source": [
    "data['usage_time'] = data['fact_close_date'] - data['start_date']"
   ]
  },
  {
   "cell_type": "code",
   "execution_count": 57,
   "id": "2e76ddb6",
   "metadata": {},
   "outputs": [],
   "source": [
    "data[\"is_open\"] = data[\"is_open\"].astype(int)"
   ]
  },
  {
   "cell_type": "code",
   "execution_count": 58,
   "id": "cf1ee5e3",
   "metadata": {},
   "outputs": [
    {
     "data": {
      "text/html": [
       "<div>\n",
       "<style scoped>\n",
       "    .dataframe tbody tr th:only-of-type {\n",
       "        vertical-align: middle;\n",
       "    }\n",
       "\n",
       "    .dataframe tbody tr th {\n",
       "        vertical-align: top;\n",
       "    }\n",
       "\n",
       "    .dataframe thead th {\n",
       "        text-align: right;\n",
       "    }\n",
       "</style>\n",
       "<table border=\"1\" class=\"dataframe\">\n",
       "  <thead>\n",
       "    <tr style=\"text-align: right;\">\n",
       "      <th></th>\n",
       "      <th>gender</th>\n",
       "      <th>birth_date</th>\n",
       "      <th>nonresident_flag</th>\n",
       "      <th>city</th>\n",
       "      <th>contract_sum</th>\n",
       "      <th>product_category_name</th>\n",
       "      <th>card_type_name</th>\n",
       "      <th>start_date</th>\n",
       "      <th>fact_close_date</th>\n",
       "      <th>purchase_sum</th>\n",
       "      <th>purchase_count</th>\n",
       "      <th>current_balance_avg_sum</th>\n",
       "      <th>current_balance_sum</th>\n",
       "      <th>current_debit_turn_sum</th>\n",
       "      <th>current_credit_turn_sum</th>\n",
       "      <th>is_open</th>\n",
       "      <th>usage_time</th>\n",
       "    </tr>\n",
       "  </thead>\n",
       "  <tbody>\n",
       "    <tr>\n",
       "      <th>0</th>\n",
       "      <td>Ж</td>\n",
       "      <td>1985</td>\n",
       "      <td>R</td>\n",
       "      <td>Гусь-Хрустальный</td>\n",
       "      <td>0.0</td>\n",
       "      <td>Договор на текущий счет для дебетовой карты</td>\n",
       "      <td>Visa Platinum Rewards</td>\n",
       "      <td>2019.0</td>\n",
       "      <td>2021.0</td>\n",
       "      <td>16600.0</td>\n",
       "      <td>71</td>\n",
       "      <td>39700.0</td>\n",
       "      <td>25700.0</td>\n",
       "      <td>220600.0</td>\n",
       "      <td>201000.0</td>\n",
       "      <td>0</td>\n",
       "      <td>2.0</td>\n",
       "    </tr>\n",
       "    <tr>\n",
       "      <th>1</th>\n",
       "      <td>М</td>\n",
       "      <td>1951</td>\n",
       "      <td>R</td>\n",
       "      <td>Ишимбай</td>\n",
       "      <td>0.0</td>\n",
       "      <td>Договор на текущий счет для дебетовой карты</td>\n",
       "      <td>VISA Classic</td>\n",
       "      <td>2019.0</td>\n",
       "      <td>2022.0</td>\n",
       "      <td>0.0</td>\n",
       "      <td>0</td>\n",
       "      <td>1900.0</td>\n",
       "      <td>1000.0</td>\n",
       "      <td>6200.0</td>\n",
       "      <td>3000.0</td>\n",
       "      <td>1</td>\n",
       "      <td>3.0</td>\n",
       "    </tr>\n",
       "    <tr>\n",
       "      <th>3</th>\n",
       "      <td>М</td>\n",
       "      <td>1955</td>\n",
       "      <td>R</td>\n",
       "      <td>Томск</td>\n",
       "      <td>0.0</td>\n",
       "      <td>Договор на текущий счет для дебетовой карты</td>\n",
       "      <td>Visa Rewards</td>\n",
       "      <td>2021.0</td>\n",
       "      <td>2022.0</td>\n",
       "      <td>24300.0</td>\n",
       "      <td>118</td>\n",
       "      <td>0.0</td>\n",
       "      <td>0.0</td>\n",
       "      <td>35400.0</td>\n",
       "      <td>35400.0</td>\n",
       "      <td>1</td>\n",
       "      <td>1.0</td>\n",
       "    </tr>\n",
       "    <tr>\n",
       "      <th>4</th>\n",
       "      <td>М</td>\n",
       "      <td>1955</td>\n",
       "      <td>R</td>\n",
       "      <td>Томск</td>\n",
       "      <td>0.0</td>\n",
       "      <td>Договор на текущий счет для дебетовой карты</td>\n",
       "      <td>Eurocard/MasterCard World</td>\n",
       "      <td>2018.0</td>\n",
       "      <td>2022.0</td>\n",
       "      <td>24300.0</td>\n",
       "      <td>118</td>\n",
       "      <td>0.0</td>\n",
       "      <td>0.0</td>\n",
       "      <td>35400.0</td>\n",
       "      <td>35400.0</td>\n",
       "      <td>0</td>\n",
       "      <td>4.0</td>\n",
       "    </tr>\n",
       "    <tr>\n",
       "      <th>5</th>\n",
       "      <td>Ж</td>\n",
       "      <td>1980</td>\n",
       "      <td>R</td>\n",
       "      <td>Октябрьский</td>\n",
       "      <td>0.0</td>\n",
       "      <td>Договор на текущий счет для дебетовой карты</td>\n",
       "      <td>МИР Debit</td>\n",
       "      <td>2019.0</td>\n",
       "      <td>2022.0</td>\n",
       "      <td>0.0</td>\n",
       "      <td>0</td>\n",
       "      <td>12700.0</td>\n",
       "      <td>1000.0</td>\n",
       "      <td>15000.0</td>\n",
       "      <td>7800.0</td>\n",
       "      <td>1</td>\n",
       "      <td>3.0</td>\n",
       "    </tr>\n",
       "    <tr>\n",
       "      <th>...</th>\n",
       "      <td>...</td>\n",
       "      <td>...</td>\n",
       "      <td>...</td>\n",
       "      <td>...</td>\n",
       "      <td>...</td>\n",
       "      <td>...</td>\n",
       "      <td>...</td>\n",
       "      <td>...</td>\n",
       "      <td>...</td>\n",
       "      <td>...</td>\n",
       "      <td>...</td>\n",
       "      <td>...</td>\n",
       "      <td>...</td>\n",
       "      <td>...</td>\n",
       "      <td>...</td>\n",
       "      <td>...</td>\n",
       "      <td>...</td>\n",
       "    </tr>\n",
       "    <tr>\n",
       "      <th>371565</th>\n",
       "      <td>М</td>\n",
       "      <td>1985</td>\n",
       "      <td>R</td>\n",
       "      <td>Нижневартовск</td>\n",
       "      <td>0.0</td>\n",
       "      <td>Договор на текущий счет для дебетовой карты</td>\n",
       "      <td>Eurocard/MasterCard Platinum</td>\n",
       "      <td>2020.0</td>\n",
       "      <td>2022.0</td>\n",
       "      <td>0.0</td>\n",
       "      <td>0</td>\n",
       "      <td>0.0</td>\n",
       "      <td>0.0</td>\n",
       "      <td>0.0</td>\n",
       "      <td>0.0</td>\n",
       "      <td>1</td>\n",
       "      <td>2.0</td>\n",
       "    </tr>\n",
       "    <tr>\n",
       "      <th>371566</th>\n",
       "      <td>М</td>\n",
       "      <td>1970</td>\n",
       "      <td>R</td>\n",
       "      <td>Уфа</td>\n",
       "      <td>0.0</td>\n",
       "      <td>Договор на текущий счет для дебетовой карты</td>\n",
       "      <td>МИР СКБ ЗП</td>\n",
       "      <td>2022.0</td>\n",
       "      <td>2022.0</td>\n",
       "      <td>0.0</td>\n",
       "      <td>0</td>\n",
       "      <td>15600.0</td>\n",
       "      <td>15600.0</td>\n",
       "      <td>0.0</td>\n",
       "      <td>0.0</td>\n",
       "      <td>1</td>\n",
       "      <td>0.0</td>\n",
       "    </tr>\n",
       "    <tr>\n",
       "      <th>371567</th>\n",
       "      <td>Ж</td>\n",
       "      <td>1961</td>\n",
       "      <td>R</td>\n",
       "      <td>Брянск</td>\n",
       "      <td>0.0</td>\n",
       "      <td>Договор на текущий счет для дебетовой карты</td>\n",
       "      <td>Visa Platinum Rewards</td>\n",
       "      <td>2021.0</td>\n",
       "      <td>2021.0</td>\n",
       "      <td>0.0</td>\n",
       "      <td>0</td>\n",
       "      <td>0.0</td>\n",
       "      <td>0.0</td>\n",
       "      <td>0.0</td>\n",
       "      <td>0.0</td>\n",
       "      <td>0</td>\n",
       "      <td>0.0</td>\n",
       "    </tr>\n",
       "    <tr>\n",
       "      <th>371568</th>\n",
       "      <td>Ж</td>\n",
       "      <td>1980</td>\n",
       "      <td>R</td>\n",
       "      <td>Ишимбай</td>\n",
       "      <td>0.0</td>\n",
       "      <td>Договор на текущий счет для дебетовой карты</td>\n",
       "      <td>Дебет карта ПС МИР \"Бюджетная\"</td>\n",
       "      <td>2019.0</td>\n",
       "      <td>2022.0</td>\n",
       "      <td>0.0</td>\n",
       "      <td>0</td>\n",
       "      <td>0.0</td>\n",
       "      <td>0.0</td>\n",
       "      <td>0.0</td>\n",
       "      <td>0.0</td>\n",
       "      <td>1</td>\n",
       "      <td>3.0</td>\n",
       "    </tr>\n",
       "    <tr>\n",
       "      <th>371569</th>\n",
       "      <td>М</td>\n",
       "      <td>1997</td>\n",
       "      <td>R</td>\n",
       "      <td>Москва</td>\n",
       "      <td>0.0</td>\n",
       "      <td>Договор на текущий счет для дебетовой карты</td>\n",
       "      <td>MIR Privilege Plus</td>\n",
       "      <td>2022.0</td>\n",
       "      <td>2022.0</td>\n",
       "      <td>0.0</td>\n",
       "      <td>0</td>\n",
       "      <td>0.0</td>\n",
       "      <td>0.0</td>\n",
       "      <td>0.0</td>\n",
       "      <td>0.0</td>\n",
       "      <td>1</td>\n",
       "      <td>0.0</td>\n",
       "    </tr>\n",
       "  </tbody>\n",
       "</table>\n",
       "<p>317548 rows × 17 columns</p>\n",
       "</div>"
      ],
      "text/plain": [
       "       gender  birth_date nonresident_flag              city  contract_sum  \\\n",
       "0           Ж        1985                R  Гусь-Хрустальный           0.0   \n",
       "1           М        1951                R           Ишимбай           0.0   \n",
       "3           М        1955                R             Томск           0.0   \n",
       "4           М        1955                R             Томск           0.0   \n",
       "5           Ж        1980                R       Октябрьский           0.0   \n",
       "...       ...         ...              ...               ...           ...   \n",
       "371565      М        1985                R     Нижневартовск           0.0   \n",
       "371566      М        1970                R               Уфа           0.0   \n",
       "371567      Ж        1961                R            Брянск           0.0   \n",
       "371568      Ж        1980                R           Ишимбай           0.0   \n",
       "371569      М        1997                R            Москва           0.0   \n",
       "\n",
       "                              product_category_name  \\\n",
       "0       Договор на текущий счет для дебетовой карты   \n",
       "1       Договор на текущий счет для дебетовой карты   \n",
       "3       Договор на текущий счет для дебетовой карты   \n",
       "4       Договор на текущий счет для дебетовой карты   \n",
       "5       Договор на текущий счет для дебетовой карты   \n",
       "...                                             ...   \n",
       "371565  Договор на текущий счет для дебетовой карты   \n",
       "371566  Договор на текущий счет для дебетовой карты   \n",
       "371567  Договор на текущий счет для дебетовой карты   \n",
       "371568  Договор на текущий счет для дебетовой карты   \n",
       "371569  Договор на текущий счет для дебетовой карты   \n",
       "\n",
       "                        card_type_name  start_date  fact_close_date  \\\n",
       "0                Visa Platinum Rewards      2019.0           2021.0   \n",
       "1                         VISA Classic      2019.0           2022.0   \n",
       "3                         Visa Rewards      2021.0           2022.0   \n",
       "4            Eurocard/MasterCard World      2018.0           2022.0   \n",
       "5                            МИР Debit      2019.0           2022.0   \n",
       "...                                ...         ...              ...   \n",
       "371565    Eurocard/MasterCard Platinum      2020.0           2022.0   \n",
       "371566                      МИР СКБ ЗП      2022.0           2022.0   \n",
       "371567           Visa Platinum Rewards      2021.0           2021.0   \n",
       "371568  Дебет карта ПС МИР \"Бюджетная\"      2019.0           2022.0   \n",
       "371569              MIR Privilege Plus      2022.0           2022.0   \n",
       "\n",
       "        purchase_sum  purchase_count  current_balance_avg_sum  \\\n",
       "0            16600.0              71                  39700.0   \n",
       "1                0.0               0                   1900.0   \n",
       "3            24300.0             118                      0.0   \n",
       "4            24300.0             118                      0.0   \n",
       "5                0.0               0                  12700.0   \n",
       "...              ...             ...                      ...   \n",
       "371565           0.0               0                      0.0   \n",
       "371566           0.0               0                  15600.0   \n",
       "371567           0.0               0                      0.0   \n",
       "371568           0.0               0                      0.0   \n",
       "371569           0.0               0                      0.0   \n",
       "\n",
       "        current_balance_sum  current_debit_turn_sum  current_credit_turn_sum  \\\n",
       "0                   25700.0                220600.0                 201000.0   \n",
       "1                    1000.0                  6200.0                   3000.0   \n",
       "3                       0.0                 35400.0                  35400.0   \n",
       "4                       0.0                 35400.0                  35400.0   \n",
       "5                    1000.0                 15000.0                   7800.0   \n",
       "...                     ...                     ...                      ...   \n",
       "371565                  0.0                     0.0                      0.0   \n",
       "371566              15600.0                     0.0                      0.0   \n",
       "371567                  0.0                     0.0                      0.0   \n",
       "371568                  0.0                     0.0                      0.0   \n",
       "371569                  0.0                     0.0                      0.0   \n",
       "\n",
       "        is_open  usage_time  \n",
       "0             0         2.0  \n",
       "1             1         3.0  \n",
       "3             1         1.0  \n",
       "4             0         4.0  \n",
       "5             1         3.0  \n",
       "...         ...         ...  \n",
       "371565        1         2.0  \n",
       "371566        1         0.0  \n",
       "371567        0         0.0  \n",
       "371568        1         3.0  \n",
       "371569        1         0.0  \n",
       "\n",
       "[317548 rows x 17 columns]"
      ]
     },
     "execution_count": 58,
     "metadata": {},
     "output_type": "execute_result"
    }
   ],
   "source": [
    "data"
   ]
  },
  {
   "cell_type": "code",
   "execution_count": 59,
   "id": "5aec308c",
   "metadata": {},
   "outputs": [],
   "source": [
    "data = data.drop(['start_date', 'fact_close_date'], axis=1)"
   ]
  },
  {
   "cell_type": "code",
   "execution_count": 60,
   "id": "b72ffbdf",
   "metadata": {},
   "outputs": [
    {
     "data": {
      "text/plain": [
       "array(['Гусь-Хрустальный', 'Ишимбай', 'Томск', 'Октябрьский',\n",
       "       'Нижний Новгород', 'Калтан', 'Туапсе', 'Уфа', 'Туймазы',\n",
       "       'Нефтекамск', 'Тюмень', 'Санкт-Петербург', 'Белебей', 'Мелеуз',\n",
       "       'Стерлитамак', 'Белорецк', 'Армавир', 'Сергиев Посад', 'Воронеж',\n",
       "       'Ставрополь', 'Ярославль', 'Краснодар', 'Челябинск', 'Бураево',\n",
       "       'Омск', 'Москва', 'Бирск', 'Салават', 'Сибай', 'Старый Оскол',\n",
       "       'Мраково', 'Екатеринбург', 'Новосибирск', 'Янаул', 'Дюртюли',\n",
       "       'Набережные Челны', 'Боровичи', 'Киселёвск', 'Кропоткин',\n",
       "       'Белгород', 'Магнитогорск', 'Ижевск', 'Чусовой', 'Вологда', 'Ейск',\n",
       "       'Анапа', 'Тверь', 'Верхние Татышлы', 'Кунгур', 'Раменское',\n",
       "       'Пермь', 'Кумертау', 'Учалы', 'Таганрог', 'Иглино', 'Тула',\n",
       "       'Тамбов', 'Новокузнецк', 'Одинцово', 'Месягутово', 'Светлый',\n",
       "       'Брянск', 'Киргиз-Мияки', 'Каневская', 'Смоленск', 'Владимир',\n",
       "       'Языково', 'Кореновск', 'Юрга', 'Кемерово', 'Осинники',\n",
       "       'Ростов-на-Дону', 'Верхнеяркеево', 'Дзержинск', 'Давлеканово',\n",
       "       'Пенза', 'Глазов', 'Прокопьевск', 'Нижневартовск', 'Сочи',\n",
       "       'Баймак', 'Чишмы', 'Новороссийск', 'Аскино', 'Мегион', 'Рязань',\n",
       "       'Саратов', 'Покров', 'Сургут', 'Зилаир', 'Жуковский', 'Златоуст',\n",
       "       'Белово', 'Благовещенск', 'Череповец', 'Толбазы', 'Раевский',\n",
       "       'Калтасы', 'Сарапул', 'Самара', 'Архангельск', 'Старосубхангулово',\n",
       "       'Пятигорск', 'Аскарово', 'Геленджик', 'Федоровка', 'Иркутск',\n",
       "       'Красноярск', 'Миасс', 'Воскресенск', 'Волгоград', 'Серпухов',\n",
       "       'Бийск', 'Невинномысск', 'Великий Новгород', 'Стерлибашево',\n",
       "       'Клинцы', 'Старобалтачево', 'Серафимовский', 'Барнаул',\n",
       "       'Ульяновск', 'Калининград', 'Рославль', 'Воткинск',\n",
       "       'Красноусольский', 'Орёл', 'Химки', 'Междуреченск', 'Вольск',\n",
       "       'Надым', 'Курган', 'Архангельское', 'Тимашевск', 'Караидель',\n",
       "       'Петрозаводск', 'Ковров', 'Исянгулово', 'Курганинск', 'Казань',\n",
       "       'Приютово', 'Колпино', 'Кандры', 'Липецк', 'Дубна', 'Агидель',\n",
       "       'Березники', 'Янгантау', 'Ангарск', 'Николо-Березовка', 'Муром'],\n",
       "      dtype=object)"
      ]
     },
     "execution_count": 60,
     "metadata": {},
     "output_type": "execute_result"
    }
   ],
   "source": [
    "data['city'].unique()"
   ]
  },
  {
   "cell_type": "code",
   "execution_count": 62,
   "id": "ab7187e0",
   "metadata": {},
   "outputs": [],
   "source": [
    "data = data.drop(['current_credit_turn_sum', 'current_debit_turn_sum', 'current_balance_sum'], axis = 1)"
   ]
  },
  {
   "cell_type": "code",
   "execution_count": 75,
   "id": "220c5821",
   "metadata": {},
   "outputs": [
    {
     "data": {
      "text/html": [
       "<div>\n",
       "<style scoped>\n",
       "    .dataframe tbody tr th:only-of-type {\n",
       "        vertical-align: middle;\n",
       "    }\n",
       "\n",
       "    .dataframe tbody tr th {\n",
       "        vertical-align: top;\n",
       "    }\n",
       "\n",
       "    .dataframe thead th {\n",
       "        text-align: right;\n",
       "    }\n",
       "</style>\n",
       "<table border=\"1\" class=\"dataframe\">\n",
       "  <thead>\n",
       "    <tr style=\"text-align: right;\">\n",
       "      <th></th>\n",
       "      <th>birth_date</th>\n",
       "      <th>contract_sum</th>\n",
       "      <th>purchase_sum</th>\n",
       "      <th>purchase_count</th>\n",
       "      <th>current_balance_avg_sum</th>\n",
       "      <th>is_open</th>\n",
       "      <th>usage_time</th>\n",
       "      <th>gender_Ж</th>\n",
       "      <th>gender_М</th>\n",
       "      <th>nonresident_flag_N</th>\n",
       "      <th>...</th>\n",
       "      <th>card_type_name_VISA Platinum</th>\n",
       "      <th>card_type_name_Visa Classic Rewards</th>\n",
       "      <th>card_type_name_Visa Platinum Rewards</th>\n",
       "      <th>card_type_name_Visa Rewards</th>\n",
       "      <th>card_type_name_Visa Signature</th>\n",
       "      <th>card_type_name_Дебет карта ПС МИР \"Бюджетная\"</th>\n",
       "      <th>card_type_name_МИР Debit</th>\n",
       "      <th>card_type_name_МИР Копилка</th>\n",
       "      <th>card_type_name_МИР СКБ</th>\n",
       "      <th>card_type_name_МИР СКБ ЗП</th>\n",
       "    </tr>\n",
       "  </thead>\n",
       "  <tbody>\n",
       "    <tr>\n",
       "      <th>0</th>\n",
       "      <td>1985</td>\n",
       "      <td>0.0</td>\n",
       "      <td>16600.0</td>\n",
       "      <td>71</td>\n",
       "      <td>39700.0</td>\n",
       "      <td>0</td>\n",
       "      <td>2.0</td>\n",
       "      <td>1</td>\n",
       "      <td>0</td>\n",
       "      <td>0</td>\n",
       "      <td>...</td>\n",
       "      <td>0</td>\n",
       "      <td>0</td>\n",
       "      <td>1</td>\n",
       "      <td>0</td>\n",
       "      <td>0</td>\n",
       "      <td>0</td>\n",
       "      <td>0</td>\n",
       "      <td>0</td>\n",
       "      <td>0</td>\n",
       "      <td>0</td>\n",
       "    </tr>\n",
       "    <tr>\n",
       "      <th>1</th>\n",
       "      <td>1951</td>\n",
       "      <td>0.0</td>\n",
       "      <td>0.0</td>\n",
       "      <td>0</td>\n",
       "      <td>1900.0</td>\n",
       "      <td>1</td>\n",
       "      <td>3.0</td>\n",
       "      <td>0</td>\n",
       "      <td>1</td>\n",
       "      <td>0</td>\n",
       "      <td>...</td>\n",
       "      <td>0</td>\n",
       "      <td>0</td>\n",
       "      <td>0</td>\n",
       "      <td>0</td>\n",
       "      <td>0</td>\n",
       "      <td>0</td>\n",
       "      <td>0</td>\n",
       "      <td>0</td>\n",
       "      <td>0</td>\n",
       "      <td>0</td>\n",
       "    </tr>\n",
       "    <tr>\n",
       "      <th>3</th>\n",
       "      <td>1955</td>\n",
       "      <td>0.0</td>\n",
       "      <td>24300.0</td>\n",
       "      <td>118</td>\n",
       "      <td>0.0</td>\n",
       "      <td>1</td>\n",
       "      <td>1.0</td>\n",
       "      <td>0</td>\n",
       "      <td>1</td>\n",
       "      <td>0</td>\n",
       "      <td>...</td>\n",
       "      <td>0</td>\n",
       "      <td>0</td>\n",
       "      <td>0</td>\n",
       "      <td>1</td>\n",
       "      <td>0</td>\n",
       "      <td>0</td>\n",
       "      <td>0</td>\n",
       "      <td>0</td>\n",
       "      <td>0</td>\n",
       "      <td>0</td>\n",
       "    </tr>\n",
       "    <tr>\n",
       "      <th>4</th>\n",
       "      <td>1955</td>\n",
       "      <td>0.0</td>\n",
       "      <td>24300.0</td>\n",
       "      <td>118</td>\n",
       "      <td>0.0</td>\n",
       "      <td>0</td>\n",
       "      <td>4.0</td>\n",
       "      <td>0</td>\n",
       "      <td>1</td>\n",
       "      <td>0</td>\n",
       "      <td>...</td>\n",
       "      <td>0</td>\n",
       "      <td>0</td>\n",
       "      <td>0</td>\n",
       "      <td>0</td>\n",
       "      <td>0</td>\n",
       "      <td>0</td>\n",
       "      <td>0</td>\n",
       "      <td>0</td>\n",
       "      <td>0</td>\n",
       "      <td>0</td>\n",
       "    </tr>\n",
       "    <tr>\n",
       "      <th>5</th>\n",
       "      <td>1980</td>\n",
       "      <td>0.0</td>\n",
       "      <td>0.0</td>\n",
       "      <td>0</td>\n",
       "      <td>12700.0</td>\n",
       "      <td>1</td>\n",
       "      <td>3.0</td>\n",
       "      <td>1</td>\n",
       "      <td>0</td>\n",
       "      <td>0</td>\n",
       "      <td>...</td>\n",
       "      <td>0</td>\n",
       "      <td>0</td>\n",
       "      <td>0</td>\n",
       "      <td>0</td>\n",
       "      <td>0</td>\n",
       "      <td>0</td>\n",
       "      <td>1</td>\n",
       "      <td>0</td>\n",
       "      <td>0</td>\n",
       "      <td>0</td>\n",
       "    </tr>\n",
       "    <tr>\n",
       "      <th>...</th>\n",
       "      <td>...</td>\n",
       "      <td>...</td>\n",
       "      <td>...</td>\n",
       "      <td>...</td>\n",
       "      <td>...</td>\n",
       "      <td>...</td>\n",
       "      <td>...</td>\n",
       "      <td>...</td>\n",
       "      <td>...</td>\n",
       "      <td>...</td>\n",
       "      <td>...</td>\n",
       "      <td>...</td>\n",
       "      <td>...</td>\n",
       "      <td>...</td>\n",
       "      <td>...</td>\n",
       "      <td>...</td>\n",
       "      <td>...</td>\n",
       "      <td>...</td>\n",
       "      <td>...</td>\n",
       "      <td>...</td>\n",
       "      <td>...</td>\n",
       "    </tr>\n",
       "    <tr>\n",
       "      <th>371565</th>\n",
       "      <td>1985</td>\n",
       "      <td>0.0</td>\n",
       "      <td>0.0</td>\n",
       "      <td>0</td>\n",
       "      <td>0.0</td>\n",
       "      <td>1</td>\n",
       "      <td>2.0</td>\n",
       "      <td>0</td>\n",
       "      <td>1</td>\n",
       "      <td>0</td>\n",
       "      <td>...</td>\n",
       "      <td>0</td>\n",
       "      <td>0</td>\n",
       "      <td>0</td>\n",
       "      <td>0</td>\n",
       "      <td>0</td>\n",
       "      <td>0</td>\n",
       "      <td>0</td>\n",
       "      <td>0</td>\n",
       "      <td>0</td>\n",
       "      <td>0</td>\n",
       "    </tr>\n",
       "    <tr>\n",
       "      <th>371566</th>\n",
       "      <td>1970</td>\n",
       "      <td>0.0</td>\n",
       "      <td>0.0</td>\n",
       "      <td>0</td>\n",
       "      <td>15600.0</td>\n",
       "      <td>1</td>\n",
       "      <td>0.0</td>\n",
       "      <td>0</td>\n",
       "      <td>1</td>\n",
       "      <td>0</td>\n",
       "      <td>...</td>\n",
       "      <td>0</td>\n",
       "      <td>0</td>\n",
       "      <td>0</td>\n",
       "      <td>0</td>\n",
       "      <td>0</td>\n",
       "      <td>0</td>\n",
       "      <td>0</td>\n",
       "      <td>0</td>\n",
       "      <td>0</td>\n",
       "      <td>1</td>\n",
       "    </tr>\n",
       "    <tr>\n",
       "      <th>371567</th>\n",
       "      <td>1961</td>\n",
       "      <td>0.0</td>\n",
       "      <td>0.0</td>\n",
       "      <td>0</td>\n",
       "      <td>0.0</td>\n",
       "      <td>0</td>\n",
       "      <td>0.0</td>\n",
       "      <td>1</td>\n",
       "      <td>0</td>\n",
       "      <td>0</td>\n",
       "      <td>...</td>\n",
       "      <td>0</td>\n",
       "      <td>0</td>\n",
       "      <td>1</td>\n",
       "      <td>0</td>\n",
       "      <td>0</td>\n",
       "      <td>0</td>\n",
       "      <td>0</td>\n",
       "      <td>0</td>\n",
       "      <td>0</td>\n",
       "      <td>0</td>\n",
       "    </tr>\n",
       "    <tr>\n",
       "      <th>371568</th>\n",
       "      <td>1980</td>\n",
       "      <td>0.0</td>\n",
       "      <td>0.0</td>\n",
       "      <td>0</td>\n",
       "      <td>0.0</td>\n",
       "      <td>1</td>\n",
       "      <td>3.0</td>\n",
       "      <td>1</td>\n",
       "      <td>0</td>\n",
       "      <td>0</td>\n",
       "      <td>...</td>\n",
       "      <td>0</td>\n",
       "      <td>0</td>\n",
       "      <td>0</td>\n",
       "      <td>0</td>\n",
       "      <td>0</td>\n",
       "      <td>1</td>\n",
       "      <td>0</td>\n",
       "      <td>0</td>\n",
       "      <td>0</td>\n",
       "      <td>0</td>\n",
       "    </tr>\n",
       "    <tr>\n",
       "      <th>371569</th>\n",
       "      <td>1997</td>\n",
       "      <td>0.0</td>\n",
       "      <td>0.0</td>\n",
       "      <td>0</td>\n",
       "      <td>0.0</td>\n",
       "      <td>1</td>\n",
       "      <td>0.0</td>\n",
       "      <td>0</td>\n",
       "      <td>1</td>\n",
       "      <td>0</td>\n",
       "      <td>...</td>\n",
       "      <td>0</td>\n",
       "      <td>0</td>\n",
       "      <td>0</td>\n",
       "      <td>0</td>\n",
       "      <td>0</td>\n",
       "      <td>0</td>\n",
       "      <td>0</td>\n",
       "      <td>0</td>\n",
       "      <td>0</td>\n",
       "      <td>0</td>\n",
       "    </tr>\n",
       "  </tbody>\n",
       "</table>\n",
       "<p>317548 rows × 189 columns</p>\n",
       "</div>"
      ],
      "text/plain": [
       "        birth_date  contract_sum  purchase_sum  purchase_count  \\\n",
       "0             1985           0.0       16600.0              71   \n",
       "1             1951           0.0           0.0               0   \n",
       "3             1955           0.0       24300.0             118   \n",
       "4             1955           0.0       24300.0             118   \n",
       "5             1980           0.0           0.0               0   \n",
       "...            ...           ...           ...             ...   \n",
       "371565        1985           0.0           0.0               0   \n",
       "371566        1970           0.0           0.0               0   \n",
       "371567        1961           0.0           0.0               0   \n",
       "371568        1980           0.0           0.0               0   \n",
       "371569        1997           0.0           0.0               0   \n",
       "\n",
       "        current_balance_avg_sum  is_open  usage_time  gender_Ж  gender_М  \\\n",
       "0                       39700.0        0         2.0         1         0   \n",
       "1                        1900.0        1         3.0         0         1   \n",
       "3                           0.0        1         1.0         0         1   \n",
       "4                           0.0        0         4.0         0         1   \n",
       "5                       12700.0        1         3.0         1         0   \n",
       "...                         ...      ...         ...       ...       ...   \n",
       "371565                      0.0        1         2.0         0         1   \n",
       "371566                  15600.0        1         0.0         0         1   \n",
       "371567                      0.0        0         0.0         1         0   \n",
       "371568                      0.0        1         3.0         1         0   \n",
       "371569                      0.0        1         0.0         0         1   \n",
       "\n",
       "        nonresident_flag_N  ...  card_type_name_VISA Platinum  \\\n",
       "0                        0  ...                             0   \n",
       "1                        0  ...                             0   \n",
       "3                        0  ...                             0   \n",
       "4                        0  ...                             0   \n",
       "5                        0  ...                             0   \n",
       "...                    ...  ...                           ...   \n",
       "371565                   0  ...                             0   \n",
       "371566                   0  ...                             0   \n",
       "371567                   0  ...                             0   \n",
       "371568                   0  ...                             0   \n",
       "371569                   0  ...                             0   \n",
       "\n",
       "        card_type_name_Visa Classic Rewards  \\\n",
       "0                                         0   \n",
       "1                                         0   \n",
       "3                                         0   \n",
       "4                                         0   \n",
       "5                                         0   \n",
       "...                                     ...   \n",
       "371565                                    0   \n",
       "371566                                    0   \n",
       "371567                                    0   \n",
       "371568                                    0   \n",
       "371569                                    0   \n",
       "\n",
       "        card_type_name_Visa Platinum Rewards  card_type_name_Visa Rewards  \\\n",
       "0                                          1                            0   \n",
       "1                                          0                            0   \n",
       "3                                          0                            1   \n",
       "4                                          0                            0   \n",
       "5                                          0                            0   \n",
       "...                                      ...                          ...   \n",
       "371565                                     0                            0   \n",
       "371566                                     0                            0   \n",
       "371567                                     1                            0   \n",
       "371568                                     0                            0   \n",
       "371569                                     0                            0   \n",
       "\n",
       "        card_type_name_Visa Signature  \\\n",
       "0                                   0   \n",
       "1                                   0   \n",
       "3                                   0   \n",
       "4                                   0   \n",
       "5                                   0   \n",
       "...                               ...   \n",
       "371565                              0   \n",
       "371566                              0   \n",
       "371567                              0   \n",
       "371568                              0   \n",
       "371569                              0   \n",
       "\n",
       "        card_type_name_Дебет карта ПС МИР \"Бюджетная\"  \\\n",
       "0                                                   0   \n",
       "1                                                   0   \n",
       "3                                                   0   \n",
       "4                                                   0   \n",
       "5                                                   0   \n",
       "...                                               ...   \n",
       "371565                                              0   \n",
       "371566                                              0   \n",
       "371567                                              0   \n",
       "371568                                              1   \n",
       "371569                                              0   \n",
       "\n",
       "        card_type_name_МИР Debit  card_type_name_МИР Копилка  \\\n",
       "0                              0                           0   \n",
       "1                              0                           0   \n",
       "3                              0                           0   \n",
       "4                              0                           0   \n",
       "5                              1                           0   \n",
       "...                          ...                         ...   \n",
       "371565                         0                           0   \n",
       "371566                         0                           0   \n",
       "371567                         0                           0   \n",
       "371568                         0                           0   \n",
       "371569                         0                           0   \n",
       "\n",
       "        card_type_name_МИР СКБ  card_type_name_МИР СКБ ЗП  \n",
       "0                            0                          0  \n",
       "1                            0                          0  \n",
       "3                            0                          0  \n",
       "4                            0                          0  \n",
       "5                            0                          0  \n",
       "...                        ...                        ...  \n",
       "371565                       0                          0  \n",
       "371566                       0                          1  \n",
       "371567                       0                          0  \n",
       "371568                       0                          0  \n",
       "371569                       0                          0  \n",
       "\n",
       "[317548 rows x 189 columns]"
      ]
     },
     "execution_count": 75,
     "metadata": {},
     "output_type": "execute_result"
    }
   ],
   "source": [
    "data"
   ]
  },
  {
   "cell_type": "code",
   "execution_count": 63,
   "id": "62799489",
   "metadata": {},
   "outputs": [
    {
     "data": {
      "text/plain": [
       "birth_date                -0.084988\n",
       "contract_sum               0.021778\n",
       "purchase_sum               0.127169\n",
       "purchase_count             0.071691\n",
       "current_balance_avg_sum    1.000000\n",
       "is_open                   -0.004525\n",
       "usage_time                 0.008550\n",
       "Name: current_balance_avg_sum, dtype: float64"
      ]
     },
     "execution_count": 63,
     "metadata": {},
     "output_type": "execute_result"
    }
   ],
   "source": [
    "data.corr()['current_balance_avg_sum']"
   ]
  },
  {
   "cell_type": "code",
   "execution_count": 64,
   "id": "c309a733",
   "metadata": {},
   "outputs": [],
   "source": [
    "data = pd.get_dummies(data, columns=['gender', 'nonresident_flag', 'city', 'product_category_name', 'card_type_name'])"
   ]
  },
  {
   "cell_type": "code",
   "execution_count": 68,
   "id": "a629a653",
   "metadata": {},
   "outputs": [
    {
     "name": "stdout",
     "output_type": "stream",
     "text": [
      "<class 'pandas.core.frame.DataFrame'>\n",
      "Int64Index: 317548 entries, 0 to 371569\n",
      "Columns: 189 entries, birth_date to card_type_name_МИР СКБ ЗП\n",
      "dtypes: float64(4), int64(3), uint8(182)\n",
      "memory usage: 74.5 MB\n"
     ]
    }
   ],
   "source": [
    "data.info()"
   ]
  },
  {
   "cell_type": "code",
   "execution_count": 69,
   "id": "faec5653",
   "metadata": {},
   "outputs": [],
   "source": [
    "y = data['current_balance_avg_sum']\n",
    "X = data.drop(['current_balance_avg_sum'], axis = 1)"
   ]
  },
  {
   "cell_type": "code",
   "execution_count": 71,
   "id": "232b3af2",
   "metadata": {},
   "outputs": [],
   "source": [
    "from sklearn.model_selection import train_test_split\n",
    "\n",
    "X_train, X_test, y_train, y_test = train_test_split(X, y, test_size=0.2, random_state=42)"
   ]
  },
  {
   "cell_type": "code",
   "execution_count": 72,
   "id": "7f0b933c",
   "metadata": {},
   "outputs": [
    {
     "data": {
      "text/plain": [
       "(254038, 188)"
      ]
     },
     "execution_count": 72,
     "metadata": {},
     "output_type": "execute_result"
    }
   ],
   "source": [
    "X_train.shape"
   ]
  },
  {
   "cell_type": "code",
   "execution_count": 76,
   "id": "fc0fbef5",
   "metadata": {},
   "outputs": [],
   "source": [
    "import xgboost as xgb"
   ]
  },
  {
   "cell_type": "code",
   "execution_count": 77,
   "id": "06c82530",
   "metadata": {},
   "outputs": [],
   "source": [
    "data_dmatrix = xgb.DMatrix(data=X_train,label=y_train)"
   ]
  },
  {
   "cell_type": "code",
   "execution_count": 79,
   "id": "3275d553",
   "metadata": {},
   "outputs": [],
   "source": [
    "xg_reg = xgb.XGBRegressor(objective ='reg:linear', colsample_bytree = 0.3, learning_rate = 0.1,\n",
    "                max_depth = 5, alpha = 10, n_estimators = 10)"
   ]
  },
  {
   "cell_type": "code",
   "execution_count": 80,
   "id": "d4c7f034",
   "metadata": {},
   "outputs": [
    {
     "name": "stdout",
     "output_type": "stream",
     "text": [
      "[23:28:24] WARNING: ../src/objective/regression_obj.cu:203: reg:linear is now deprecated in favor of reg:squarederror.\n"
     ]
    },
    {
     "data": {
      "text/html": [
       "<style>#sk-container-id-1 {color: black;background-color: white;}#sk-container-id-1 pre{padding: 0;}#sk-container-id-1 div.sk-toggleable {background-color: white;}#sk-container-id-1 label.sk-toggleable__label {cursor: pointer;display: block;width: 100%;margin-bottom: 0;padding: 0.3em;box-sizing: border-box;text-align: center;}#sk-container-id-1 label.sk-toggleable__label-arrow:before {content: \"▸\";float: left;margin-right: 0.25em;color: #696969;}#sk-container-id-1 label.sk-toggleable__label-arrow:hover:before {color: black;}#sk-container-id-1 div.sk-estimator:hover label.sk-toggleable__label-arrow:before {color: black;}#sk-container-id-1 div.sk-toggleable__content {max-height: 0;max-width: 0;overflow: hidden;text-align: left;background-color: #f0f8ff;}#sk-container-id-1 div.sk-toggleable__content pre {margin: 0.2em;color: black;border-radius: 0.25em;background-color: #f0f8ff;}#sk-container-id-1 input.sk-toggleable__control:checked~div.sk-toggleable__content {max-height: 200px;max-width: 100%;overflow: auto;}#sk-container-id-1 input.sk-toggleable__control:checked~label.sk-toggleable__label-arrow:before {content: \"▾\";}#sk-container-id-1 div.sk-estimator input.sk-toggleable__control:checked~label.sk-toggleable__label {background-color: #d4ebff;}#sk-container-id-1 div.sk-label input.sk-toggleable__control:checked~label.sk-toggleable__label {background-color: #d4ebff;}#sk-container-id-1 input.sk-hidden--visually {border: 0;clip: rect(1px 1px 1px 1px);clip: rect(1px, 1px, 1px, 1px);height: 1px;margin: -1px;overflow: hidden;padding: 0;position: absolute;width: 1px;}#sk-container-id-1 div.sk-estimator {font-family: monospace;background-color: #f0f8ff;border: 1px dotted black;border-radius: 0.25em;box-sizing: border-box;margin-bottom: 0.5em;}#sk-container-id-1 div.sk-estimator:hover {background-color: #d4ebff;}#sk-container-id-1 div.sk-parallel-item::after {content: \"\";width: 100%;border-bottom: 1px solid gray;flex-grow: 1;}#sk-container-id-1 div.sk-label:hover label.sk-toggleable__label {background-color: #d4ebff;}#sk-container-id-1 div.sk-serial::before {content: \"\";position: absolute;border-left: 1px solid gray;box-sizing: border-box;top: 0;bottom: 0;left: 50%;z-index: 0;}#sk-container-id-1 div.sk-serial {display: flex;flex-direction: column;align-items: center;background-color: white;padding-right: 0.2em;padding-left: 0.2em;position: relative;}#sk-container-id-1 div.sk-item {position: relative;z-index: 1;}#sk-container-id-1 div.sk-parallel {display: flex;align-items: stretch;justify-content: center;background-color: white;position: relative;}#sk-container-id-1 div.sk-item::before, #sk-container-id-1 div.sk-parallel-item::before {content: \"\";position: absolute;border-left: 1px solid gray;box-sizing: border-box;top: 0;bottom: 0;left: 50%;z-index: -1;}#sk-container-id-1 div.sk-parallel-item {display: flex;flex-direction: column;z-index: 1;position: relative;background-color: white;}#sk-container-id-1 div.sk-parallel-item:first-child::after {align-self: flex-end;width: 50%;}#sk-container-id-1 div.sk-parallel-item:last-child::after {align-self: flex-start;width: 50%;}#sk-container-id-1 div.sk-parallel-item:only-child::after {width: 0;}#sk-container-id-1 div.sk-dashed-wrapped {border: 1px dashed gray;margin: 0 0.4em 0.5em 0.4em;box-sizing: border-box;padding-bottom: 0.4em;background-color: white;}#sk-container-id-1 div.sk-label label {font-family: monospace;font-weight: bold;display: inline-block;line-height: 1.2em;}#sk-container-id-1 div.sk-label-container {text-align: center;}#sk-container-id-1 div.sk-container {/* jupyter's `normalize.less` sets `[hidden] { display: none; }` but bootstrap.min.css set `[hidden] { display: none !important; }` so we also need the `!important` here to be able to override the default hidden behavior on the sphinx rendered scikit-learn.org. See: https://github.com/scikit-learn/scikit-learn/issues/21755 */display: inline-block !important;position: relative;}#sk-container-id-1 div.sk-text-repr-fallback {display: none;}</style><div id=\"sk-container-id-1\" class=\"sk-top-container\"><div class=\"sk-text-repr-fallback\"><pre>XGBRegressor(alpha=10, base_score=0.5, booster=&#x27;gbtree&#x27;, callbacks=None,\n",
       "             colsample_bylevel=1, colsample_bynode=1, colsample_bytree=0.3,\n",
       "             early_stopping_rounds=None, enable_categorical=False,\n",
       "             eval_metric=None, gamma=0, gpu_id=-1, grow_policy=&#x27;depthwise&#x27;,\n",
       "             importance_type=None, interaction_constraints=&#x27;&#x27;,\n",
       "             learning_rate=0.1, max_bin=256, max_cat_to_onehot=4,\n",
       "             max_delta_step=0, max_depth=5, max_leaves=0, min_child_weight=1,\n",
       "             missing=nan, monotone_constraints=&#x27;()&#x27;, n_estimators=10, n_jobs=0,\n",
       "             num_parallel_tree=1, objective=&#x27;reg:linear&#x27;, predictor=&#x27;auto&#x27;,\n",
       "             random_state=0, ...)</pre><b>In a Jupyter environment, please rerun this cell to show the HTML representation or trust the notebook. <br />On GitHub, the HTML representation is unable to render, please try loading this page with nbviewer.org.</b></div><div class=\"sk-container\" hidden><div class=\"sk-item\"><div class=\"sk-estimator sk-toggleable\"><input class=\"sk-toggleable__control sk-hidden--visually\" id=\"sk-estimator-id-1\" type=\"checkbox\" checked><label for=\"sk-estimator-id-1\" class=\"sk-toggleable__label sk-toggleable__label-arrow\">XGBRegressor</label><div class=\"sk-toggleable__content\"><pre>XGBRegressor(alpha=10, base_score=0.5, booster=&#x27;gbtree&#x27;, callbacks=None,\n",
       "             colsample_bylevel=1, colsample_bynode=1, colsample_bytree=0.3,\n",
       "             early_stopping_rounds=None, enable_categorical=False,\n",
       "             eval_metric=None, gamma=0, gpu_id=-1, grow_policy=&#x27;depthwise&#x27;,\n",
       "             importance_type=None, interaction_constraints=&#x27;&#x27;,\n",
       "             learning_rate=0.1, max_bin=256, max_cat_to_onehot=4,\n",
       "             max_delta_step=0, max_depth=5, max_leaves=0, min_child_weight=1,\n",
       "             missing=nan, monotone_constraints=&#x27;()&#x27;, n_estimators=10, n_jobs=0,\n",
       "             num_parallel_tree=1, objective=&#x27;reg:linear&#x27;, predictor=&#x27;auto&#x27;,\n",
       "             random_state=0, ...)</pre></div></div></div></div></div>"
      ],
      "text/plain": [
       "XGBRegressor(alpha=10, base_score=0.5, booster='gbtree', callbacks=None,\n",
       "             colsample_bylevel=1, colsample_bynode=1, colsample_bytree=0.3,\n",
       "             early_stopping_rounds=None, enable_categorical=False,\n",
       "             eval_metric=None, gamma=0, gpu_id=-1, grow_policy='depthwise',\n",
       "             importance_type=None, interaction_constraints='',\n",
       "             learning_rate=0.1, max_bin=256, max_cat_to_onehot=4,\n",
       "             max_delta_step=0, max_depth=5, max_leaves=0, min_child_weight=1,\n",
       "             missing=nan, monotone_constraints='()', n_estimators=10, n_jobs=0,\n",
       "             num_parallel_tree=1, objective='reg:linear', predictor='auto',\n",
       "             random_state=0, ...)"
      ]
     },
     "execution_count": 80,
     "metadata": {},
     "output_type": "execute_result"
    }
   ],
   "source": [
    "xg_reg.fit(X_train,y_train)"
   ]
  },
  {
   "cell_type": "code",
   "execution_count": 81,
   "id": "c599407c",
   "metadata": {},
   "outputs": [],
   "source": [
    "preds = xg_reg.predict(X_test)"
   ]
  },
  {
   "cell_type": "code",
   "execution_count": 89,
   "id": "0b99829f",
   "metadata": {},
   "outputs": [
    {
     "name": "stdout",
     "output_type": "stream",
     "text": [
      "RMSE: 175296.778031\n",
      "MAPE:  2.454286970375469e+19\n"
     ]
    }
   ],
   "source": [
    "import numpy as np\n",
    "from sklearn.metrics import mean_squared_error\n",
    "from sklearn.metrics import mean_absolute_percentage_error\n",
    "rmse = np.sqrt(mean_squared_error(y_test, preds))\n",
    "mape = mean_absolute_percentage_error(y_test, preds)\n",
    "print(\"RMSE: %f\" % (rmse))\n",
    "print('MAPE: ', mape)"
   ]
  },
  {
   "cell_type": "code",
   "execution_count": 84,
   "id": "6088b930",
   "metadata": {},
   "outputs": [
    {
     "data": {
      "text/plain": [
       "array([21075.203,  6351.9  , 10169.106, ..., 18665.336,  7744.77 ,\n",
       "       12570.075], dtype=float32)"
      ]
     },
     "execution_count": 84,
     "metadata": {},
     "output_type": "execute_result"
    }
   ],
   "source": [
    "preds"
   ]
  },
  {
   "cell_type": "code",
   "execution_count": 85,
   "id": "308313d4",
   "metadata": {},
   "outputs": [
    {
     "data": {
      "text/plain": [
       "128041    18900.0\n",
       "137529        0.0\n",
       "36900         0.0\n",
       "202006        0.0\n",
       "61125      2900.0\n",
       "           ...   \n",
       "158414        0.0\n",
       "307975        0.0\n",
       "259521      400.0\n",
       "346983     5900.0\n",
       "170538        0.0\n",
       "Name: current_balance_avg_sum, Length: 63510, dtype: float64"
      ]
     },
     "execution_count": 85,
     "metadata": {},
     "output_type": "execute_result"
    }
   ],
   "source": [
    "y_test"
   ]
  },
  {
   "cell_type": "code",
   "execution_count": null,
   "id": "aeceea77",
   "metadata": {},
   "outputs": [],
   "source": []
  }
 ],
 "metadata": {
  "kernelspec": {
   "display_name": "Python 3 (ipykernel)",
   "language": "python",
   "name": "python3"
  },
  "language_info": {
   "codemirror_mode": {
    "name": "ipython",
    "version": 3
   },
   "file_extension": ".py",
   "mimetype": "text/x-python",
   "name": "python",
   "nbconvert_exporter": "python",
   "pygments_lexer": "ipython3",
   "version": "3.8.10"
  }
 },
 "nbformat": 4,
 "nbformat_minor": 5
}
